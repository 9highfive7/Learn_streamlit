{
 "cells": [
  {
   "cell_type": "code",
   "execution_count": 5,
   "id": "da932127-eaf1-46d2-9dab-7614cbdfeadc",
   "metadata": {},
   "outputs": [],
   "source": [
    "import streamlit as st\n",
    "import numpy as np\n",
    "import pandas as pd"
   ]
  },
  {
   "cell_type": "code",
   "execution_count": 7,
   "id": "0af2f152-6a23-4ec6-8a6d-6e086c3bf819",
   "metadata": {},
   "outputs": [],
   "source": [
    "df  = pd.DataFrame({\n",
    "    '1列目' : [1, 2, 3, 4],\n",
    "    '2列目' : [10, 20, 30, 40]\n",
    "})\n",
    "df"
   ]
  },
  {
   "cell_type": "code",
   "execution_count": null,
   "id": "ad6f4546-8825-46ec-b6dc-2e62bda74510",
   "metadata": {},
   "outputs": [],
   "source": []
  },
  {
   "cell_type": "code",
   "execution_count": null,
   "id": "9e49b2fc-67f5-491e-be6e-611d51ae09af",
   "metadata": {},
   "outputs": [],
   "source": []
  },
  {
   "cell_type": "code",
   "execution_count": null,
   "id": "adf5d3c1-bf76-4d70-bc1b-ed4e194b1d20",
   "metadata": {},
   "outputs": [],
   "source": []
  },
  {
   "cell_type": "code",
   "execution_count": null,
   "id": "d1bf34f2-25ab-4909-a664-ae4d9784b097",
   "metadata": {},
   "outputs": [],
   "source": []
  }
 ],
 "metadata": {
  "kernelspec": {
   "display_name": "Python 3 (ipykernel)",
   "language": "python",
   "name": "python3"
  },
  "language_info": {
   "codemirror_mode": {
    "name": "ipython",
    "version": 3
   },
   "file_extension": ".py",
   "mimetype": "text/x-python",
   "name": "python",
   "nbconvert_exporter": "python",
   "pygments_lexer": "ipython3",
   "version": "3.9.7"
  }
 },
 "nbformat": 4,
 "nbformat_minor": 5
}
